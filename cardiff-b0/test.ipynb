{
 "cells": [
  {
   "cell_type": "code",
   "execution_count": 3,
   "id": "51c877b6-a639-465c-b85b-b7eefc39a307",
   "metadata": {},
   "outputs": [
    {
     "data": {
      "text/plain": [
       "defined \u001b[32mclass\u001b[39m \u001b[36mDesignCompiler_config\u001b[39m"
      ]
     },
     "execution_count": 3,
     "metadata": {},
     "output_type": "execute_result"
    }
   ],
   "source": [
    "case class DesignCompiler_config (\n",
    "                                   process: Int = 180,\n",
    "                                   freq: Int = 180,\n",
    "                                   lib_path: String = \"test\",\n",
    "                                   target_library: String = \"test\"\n",
    "                                 )\n",
    "                                "
   ]
  },
  {
   "cell_type": "code",
   "execution_count": 1,
   "id": "c2136cbe-1116-4015-bae7-b19ac3acca67",
   "metadata": {},
   "outputs": [
    {
     "name": "stderr",
     "output_type": "stream",
     "text": [
      "cmd1.sc:1: value lib_path is not a member of object cmd1.this.cmd0.DesignCompiler_config\n",
      "var script = s\"${DesignCompiler_config.lib_path}\"\n",
      "                                       ^Compilation Failed"
     ]
    },
    {
     "ename": "",
     "evalue": "",
     "output_type": "error",
     "traceback": [
      "Compilation Failed"
     ]
    }
   ],
   "source": [
    "  var script = s\"${DesignCompiler_config.lib_path}\"\n"
   ]
  },
  {
   "cell_type": "code",
   "execution_count": 4,
   "id": "d77de9da-b027-438a-af78-acffb5a39776",
   "metadata": {},
   "outputs": [
    {
     "data": {
      "text/plain": [
       "\u001b[36mdc\u001b[39m: \u001b[32mDesignCompiler_config\u001b[39m = \u001b[33mDesignCompiler_config\u001b[39m(\u001b[32m180\u001b[39m, \u001b[32m\"test\"\u001b[39m, \u001b[32m\"test\"\u001b[39m)"
      ]
     },
     "execution_count": 4,
     "metadata": {},
     "output_type": "execute_result"
    }
   ],
   "source": [
    "val dc = DesignCompiler_config(process = 180, lib_path = \"test\", target_library = \"test\")"
   ]
  },
  {
   "cell_type": "code",
   "execution_count": 5,
   "id": "2f933f69-21dd-4a68-ab30-bd7a8fa26cdd",
   "metadata": {},
   "outputs": [
    {
     "data": {
      "text/plain": [
       "\u001b[36mscript\u001b[39m: \u001b[32mString\u001b[39m = \u001b[32m\"test\"\u001b[39m"
      ]
     },
     "execution_count": 5,
     "metadata": {},
     "output_type": "execute_result"
    }
   ],
   "source": [
    "  var script = s\"${dc.lib_path}\"\n"
   ]
  },
  {
   "cell_type": "code",
   "execution_count": 7,
   "id": "e447d0b1-ae3d-4e35-b6be-5dcc77ab6a62",
   "metadata": {},
   "outputs": [],
   "source": [
    "script = \"\"\"\n",
    "  define_design_lib work -path ./elab\n",
    "  history keep 500\n",
    "  set enable_page_mode false\n",
    "  set sh_enable_page_mode false\n",
    "  set compile_seqmap_identify_shift_registers false\n",
    "  set compile_seqmap_identify_shift_registers_with_synchronous_logic false\n",
    "  set timing_enable_multiple_clocks_per_reg true\n",
    "  set lib_path \"${dc.lib_path}\"\n",
    "  set search_path       \". \\$lib_path\"\n",
    "  set target_library   \"${dc.target_library}\"\n",
    "  set synthetic_library \"dw_foundation.sldb\"\n",
    "  set link_library      \" * \\\n",
    "                       $target_library \\\n",
    "                     $synthetic_library  \"\n",
    "  \"\"\""
   ]
  },
  {
   "cell_type": "code",
   "execution_count": 6,
   "id": "18ea1887-9c1a-4fd3-8088-c38226977f10",
   "metadata": {},
   "outputs": [
    {
     "data": {
      "text/plain": [
       "\u001b[36mscript\u001b[39m: \u001b[32mString\u001b[39m = \u001b[32m\"\\\\$target_library\"\u001b[39m"
      ]
     },
     "execution_count": 6,
     "metadata": {},
     "output_type": "execute_result"
    }
   ],
   "source": [
    "  var script = \"\\\\$target_library\"\n"
   ]
  },
  {
   "cell_type": "code",
   "execution_count": 8,
   "id": "07660deb-c549-4d5a-ae2f-a2f53bef17cc",
   "metadata": {},
   "outputs": [
    {
     "data": {
      "text/plain": [
       "\u001b[36mres7\u001b[39m: \u001b[32mString\u001b[39m = \u001b[32m\"\"\"\n",
       "  define_design_lib work -path ./elab\n",
       "  history keep 500\n",
       "  set enable_page_mode false\n",
       "  set sh_enable_page_mode false\n",
       "  set compile_seqmap_identify_shift_registers false\n",
       "  set compile_seqmap_identify_shift_registers_with_synchronous_logic false\n",
       "  set timing_enable_multiple_clocks_per_reg true\n",
       "  set lib_path \"${dc.lib_path}\"\n",
       "  set search_path       \". \\$lib_path\"\n",
       "  set target_library   \"${dc.target_library}\"\n",
       "  set synthetic_library \"dw_foundation.sldb\"\n",
       "  set link_library      \" * \\\n",
       "                       $target_library \\\n",
       "                     $synthetic_library  \"\n",
       "  \"\"\"\u001b[39m"
      ]
     },
     "execution_count": 8,
     "metadata": {},
     "output_type": "execute_result"
    }
   ],
   "source": [
    "script"
   ]
  },
  {
   "cell_type": "code",
   "execution_count": 9,
   "id": "86026dc8-9203-45c3-af64-55f6ea0ecacd",
   "metadata": {},
   "outputs": [
    {
     "data": {
      "text/plain": [
       "\u001b[36mscript\u001b[39m: \u001b[32mString\u001b[39m = \u001b[32m\"\"\"\n",
       "set synthetic_library \"dw_foundation.sldb\"\n",
       "set link_library      \" * \\\n",
       "                        $target_library \\\n",
       "                        $synthetic_library  \"\n",
       "\"\"\"\u001b[39m"
      ]
     },
     "execution_count": 9,
     "metadata": {},
     "output_type": "execute_result"
    }
   ],
   "source": [
    "  val script =\n",
    "    \"\"\"\n",
    "      |set synthetic_library \"dw_foundation.sldb\"\n",
    "      |set link_library      \" * \\\n",
    "      |                        $target_library \\\n",
    "      |                        $synthetic_library  \"\n",
    "      |\"\"\".stripMargin"
   ]
  },
  {
   "cell_type": "code",
   "execution_count": 10,
   "id": "9f94f219-6067-4411-b9af-8ccb48c9a448",
   "metadata": {},
   "outputs": [
    {
     "name": "stderr",
     "output_type": "stream",
     "text": [
      "cmd10.sc:13: value += is not a member of String\n",
      "    script += s\"set lib_path \\\"${Setup_config.lib_path}\\\"\"\n",
      "           ^cmd10.sc:15: value += is not a member of String\n",
      "    script += s\"set target_library   \\\"${Setup_config.target_library}\\\"\"\n",
      "           ^Compilation Failed"
     ]
    },
    {
     "ename": "",
     "evalue": "",
     "output_type": "error",
     "traceback": [
      "Compilation Failed"
     ]
    }
   ],
   "source": [
    "script"
   ]
  },
  {
   "cell_type": "code",
   "execution_count": 10,
   "id": "4f9e1594-6a86-4f78-b57f-fb5a8773e98a",
   "metadata": {},
   "outputs": [
    {
     "name": "stderr",
     "output_type": "stream",
     "text": [
      "cmd10.sc:13: value += is not a member of String\n",
      "    script += s\"set lib_path \\\"${Setup_config.lib_path}\\\"\"+\"\\n\"\n",
      "           ^cmd10.sc:15: value += is not a member of String\n",
      "    script += s\"set target_library   \\\"${Setup_config.target_library}\\\"\"+\"\\n\"\n",
      "           ^Compilation Failed"
     ]
    },
    {
     "ename": "",
     "evalue": "",
     "output_type": "error",
     "traceback": [
      "Compilation Failed"
     ]
    }
   ],
   "source": [
    "case class DesignCompiler_setup (Setup_config: DesignCompiler_config){\n",
    "  def get_dc_setup(Setup_config: DesignCompiler_config) :String = {\n",
    "    var script = \"\"\n",
    "//     script += \"\"\"\n",
    "//     define_design_lib work -path ./elab\n",
    "//     history keep 500\n",
    "//     set enable_page_mode false\n",
    "//     set sh_enable_page_mode false\n",
    "//     set compile_seqmap_identify_shift_registers false\n",
    "//     set compile_seqmap_identify_shift_registers_with_synchronous_logic false\n",
    "//     set timing_enable_multiple_clocks_per_reg true\n",
    "//     \"\"\"\n",
    "    script += s\"set lib_path \\\"${Setup_config.lib_path}\\\"\"+\"\\n\"\n",
    "    script += \"set search_path       \\\". $lib_path\\\"\"+\"\\n\"\n",
    "    script += s\"set target_library   \\\"${Setup_config.target_library}\\\"\"+\"\\n\"\n",
    "\n",
    "    script += \"set synthetic_library \\\"dw_foundation.sldb\\\"\"+\"\\n\"\n",
    "    script +=\n",
    "      \"\"\"\n",
    "        |set link_library      \" * \\\n",
    "        |                        $target_library \\\n",
    "        |                        $synthetic_library  \"\n",
    "        |\"\"\".stripMargin\n",
    "    script\n",
    "  }\n",
    "\n",
    "}"
   ]
  },
  {
   "cell_type": "code",
   "execution_count": 10,
   "id": "9d00d19a-35f6-466a-8bfc-f0c4aa20c22f",
   "metadata": {},
   "outputs": [
    {
     "name": "stderr",
     "output_type": "stream",
     "text": [
      "cmd10.sc:12: value += is not a member of String\n",
      "    script += s\"set lib_path \\\"${Setup_config.lib_path}\\\"\"+\"\\n\"\n",
      "           ^cmd10.sc:14: value += is not a member of String\n",
      "    script += s\"set target_library   \\\"${Setup_config.target_library}\\\"\"+\"\\n\"\n",
      "           ^Compilation Failed"
     ]
    },
    {
     "ename": "",
     "evalue": "",
     "output_type": "error",
     "traceback": [
      "Compilation Failed"
     ]
    }
   ],
   "source": [
    " def get_dc_setup(Setup_config: DesignCompiler_config) :String = {\n",
    "    var script = \"\"\n",
    "//     script += \"\"\"\n",
    "//     define_design_lib work -path ./elab\n",
    "//     history keep 500\n",
    "//     set enable_page_mode false\n",
    "//     set sh_enable_page_mode false\n",
    "//     set compile_seqmap_identify_shift_registers false\n",
    "//     set compile_seqmap_identify_shift_registers_with_synchronous_logic false\n",
    "//     set timing_enable_multiple_clocks_per_reg true\n",
    "//     \"\"\"\n",
    "    script += s\"set lib_path \\\"${Setup_config.lib_path}\\\"\"+\"\\n\"\n",
    "    script += \"set search_path       \\\". $lib_path\\\"\"+\"\\n\"\n",
    "    script += s\"set target_library   \\\"${Setup_config.target_library}\\\"\"+\"\\n\"\n",
    "\n",
    "    script += \"set synthetic_library \\\"dw_foundation.sldb\\\"\"+\"\\n\"\n",
    "    script +=\n",
    "      \"\"\"\n",
    "        |set link_library      \" * \\\n",
    "        |                        $target_library \\\n",
    "        |                        $synthetic_library  \"\n",
    "        |\"\"\".stripMargin\n",
    "    script\n",
    "  }"
   ]
  },
  {
   "cell_type": "code",
   "execution_count": 11,
   "id": "15da7e21-4310-4460-a407-34c6c5f46bfd",
   "metadata": {},
   "outputs": [
    {
     "data": {
      "text/plain": [
       "\u001b[36mscript\u001b[39m: \u001b[32mString\u001b[39m = \u001b[32m\"\"\u001b[39m"
      ]
     },
     "execution_count": 11,
     "metadata": {},
     "output_type": "execute_result"
    }
   ],
   "source": [
    "    var script = \"\"\n"
   ]
  },
  {
   "cell_type": "code",
   "execution_count": 12,
   "id": "49225d57-c561-4d7c-9199-38e2c164f0a1",
   "metadata": {},
   "outputs": [],
   "source": [
    "script += \"dd\""
   ]
  },
  {
   "cell_type": "code",
   "execution_count": 13,
   "id": "7cf55a64-4760-4ec9-bd0c-99b106ce9409",
   "metadata": {},
   "outputs": [
    {
     "data": {
      "text/plain": [
       "\u001b[36ma\u001b[39m: \u001b[32mString\u001b[39m = \u001b[32m\"test\"\u001b[39m"
      ]
     },
     "execution_count": 13,
     "metadata": {},
     "output_type": "execute_result"
    }
   ],
   "source": [
    "val a = \"test\"\n",
    "script += s\"$a\""
   ]
  },
  {
   "cell_type": "code",
   "execution_count": 15,
   "id": "4a89212c-b45d-471b-841c-1b79ed99f5f0",
   "metadata": {},
   "outputs": [],
   "source": [
    "script += s\"$a\"+\"\\n\""
   ]
  },
  {
   "cell_type": "code",
   "execution_count": 16,
   "id": "49750237-2c17-4953-9987-20257953618d",
   "metadata": {},
   "outputs": [
    {
     "data": {
      "text/plain": [
       "\u001b[36mres15\u001b[39m: \u001b[32mString\u001b[39m = \u001b[32m\"\"\"ddtesttest\n",
       "test\n",
       "\"\"\"\u001b[39m"
      ]
     },
     "execution_count": 16,
     "metadata": {},
     "output_type": "execute_result"
    }
   ],
   "source": [
    "script"
   ]
  },
  {
   "cell_type": "code",
   "execution_count": 17,
   "id": "77c2df51-729d-4706-a291-c1ff0af3752c",
   "metadata": {},
   "outputs": [],
   "source": [
    "script += \"\"\"\n",
    "aa\n",
    "bb\n",
    "\"\"\""
   ]
  },
  {
   "cell_type": "code",
   "execution_count": 18,
   "id": "b8d7228f-0c11-49ad-a132-9f8de91c6ab6",
   "metadata": {},
   "outputs": [
    {
     "data": {
      "text/plain": [
       "\u001b[36mres17\u001b[39m: \u001b[32mString\u001b[39m = \u001b[32m\"\"\"ddtesttest\n",
       "test\n",
       "\n",
       "aa\n",
       "bb\n",
       "\"\"\"\u001b[39m"
      ]
     },
     "execution_count": 18,
     "metadata": {},
     "output_type": "execute_result"
    }
   ],
   "source": [
    "script"
   ]
  },
  {
   "cell_type": "code",
   "execution_count": 40,
   "id": "f4d5d3a9-8bf2-4b3e-b922-f94bb5cb1d5b",
   "metadata": {},
   "outputs": [],
   "source": [
    "script = s\"\"\"\n",
    "       |aa\n",
    "bb\n",
    "\"$a\"\n",
    "\"\"\".stripMargin"
   ]
  },
  {
   "cell_type": "code",
   "execution_count": 4,
   "id": "c8de9751-7013-4277-891a-0d258d0cace4",
   "metadata": {},
   "outputs": [
    {
     "data": {
      "text/plain": [
       "\u001b[36mSetup_config\u001b[39m: \u001b[32mDesignCompiler_config\u001b[39m = \u001b[33mDesignCompiler_config\u001b[39m(\n",
       "  \u001b[32m180\u001b[39m,\n",
       "  \u001b[32m100\u001b[39m,\n",
       "  \u001b[32m\"test\"\u001b[39m,\n",
       "  \u001b[32m\"test\"\u001b[39m\n",
       ")"
      ]
     },
     "execution_count": 4,
     "metadata": {},
     "output_type": "execute_result"
    }
   ],
   "source": [
    "val Setup_config = DesignCompiler_config(process = 180, freq = 100, lib_path = \"test\", target_library = \"test\")"
   ]
  },
  {
   "cell_type": "code",
   "execution_count": 19,
   "id": "2f4d79e8-23d7-4120-82e9-13437bb2e9bb",
   "metadata": {},
   "outputs": [
    {
     "data": {
      "text/plain": [
       "\u001b[36mscript\u001b[39m: \u001b[32mString\u001b[39m = \u001b[32m\"\"\"\n",
       "    define_design_lib work -path ./elab\n",
       "    history keep 500\n",
       "    set enable_page_mode false\n",
       "    set sh_enable_page_mode false\n",
       "    set compile_seqmap_identify_shift_registers false\n",
       "    set compile_seqmap_identify_shift_registers_with_synchronous_logic false\n",
       "    set timing_enable_multiple_clocks_per_reg true\n",
       "    \n",
       "    set lib_path          \"test\"\n",
       "    set search_path       \". $lib_path\"\n",
       "\n",
       "    set target_library    \"test\"\n",
       "    set synthetic_library \"dw_foundation.sldb\"\n",
       "\n",
       "    set link_library      \" * \\\n",
       "                            $target_library \\\n",
       "                            $synthetic_library  \"\n",
       "    \"\"\"\u001b[39m"
      ]
     },
     "execution_count": 19,
     "metadata": {},
     "output_type": "execute_result"
    }
   ],
   "source": [
    "   var script = \"\"\n",
    "    script += \"\"\"\n",
    "    define_design_lib work -path ./elab\n",
    "    history keep 500\n",
    "    set enable_page_mode false\n",
    "    set sh_enable_page_mode false\n",
    "    set compile_seqmap_identify_shift_registers false\n",
    "    set compile_seqmap_identify_shift_registers_with_synchronous_logic false\n",
    "    set timing_enable_multiple_clocks_per_reg true\n",
    "    \"\"\"\n",
    "    script += s\"\"\"\n",
    "    set lib_path          \"${Setup_config.lib_path}\"\n",
    "    \"\"\"\n",
    "    script += \"set search_path       \\\". $lib_path\\\"\"+\"\\n\"\n",
    "    script += s\"\"\"\n",
    "    set target_library    \\\"${Setup_config.target_library}\\\"\n",
    "    \"\"\"\n",
    "    script += \"set synthetic_library \\\"dw_foundation.sldb\\\"\"+\"\\n\"\n",
    "    script +=\"\"\"\n",
    "    set link_library      \" * \\\n",
    "                            $target_library \\\n",
    "                            $synthetic_library  \"\n",
    "    \"\"\""
   ]
  },
  {
   "cell_type": "code",
   "execution_count": null,
   "id": "75b0e405-f638-47a4-a7e6-4e573cf8b36f",
   "metadata": {},
   "outputs": [],
   "source": []
  }
 ],
 "metadata": {
  "kernelspec": {
   "display_name": "Scala",
   "language": "scala",
   "name": "scala"
  },
  "language_info": {
   "codemirror_mode": "text/x-scala",
   "file_extension": ".scala",
   "mimetype": "text/x-scala",
   "name": "scala",
   "nbconvert_exporter": "script",
   "version": "2.11.12"
  }
 },
 "nbformat": 4,
 "nbformat_minor": 5
}
